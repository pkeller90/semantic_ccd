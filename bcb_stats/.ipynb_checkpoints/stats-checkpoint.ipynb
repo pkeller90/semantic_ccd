{
 "cells": [
  {
   "cell_type": "code",
   "execution_count": null,
   "metadata": {},
   "outputs": [],
   "source": [
    "import psycopg2\n",
    "import pandas as pd\n",
    "import pandas.io.sql as pdsql\n",
    "import os\n",
    "\n",
    "#TODO change password of user sa to sa (empty by default but no empty password allowed by psycopg2)\n",
    "conn = psycopg2.connect(\"dbname=bcb user='sa' password='sa' host='localhost' port=5435\")"
   ]
  },
  {
   "cell_type": "code",
   "execution_count": null,
   "metadata": {},
   "outputs": [],
   "source": [
    "# Fetch all clone pairs\n",
    "cur = conn.cursor()\n",
    "query = 'SELECT FUNCTION_ID_ONE, FUNCTION_ID_TWO, FUNCTIONALITY_ID, SYNTACTIC_TYPE, SIMILARITY_LINE FROM CLONES'\n",
    "# WHERE SYNTACTIC_TYPE=1;'   \n",
    "clone_pairs = pdsql.read_sql_query(query, conn)\n",
    "clone_pairs.head()"
   ]
  },
  {
   "cell_type": "code",
   "execution_count": null,
   "metadata": {},
   "outputs": [],
   "source": []
  },
  {
   "cell_type": "code",
   "execution_count": null,
   "metadata": {},
   "outputs": [],
   "source": [
    "def compute_type(row):\n",
    "    if row[\"syntactic_type\"] == 3:\n",
    "        if row[\"similarity_line\"] < 0.5:\n",
    "            return int(4)\n",
    "        else:\n",
    "            return int(3)\n",
    "    else:\n",
    "        return int(row[\"syntactic_type\"])\n",
    "    \n",
    "clone_pairs[\"type\"] = clone_pairs.apply(compute_type, axis=1)\n",
    "clone_pairs[\"type\"] = clone_pairs[\"type\"].astype(int)\n",
    "\n",
    "clone_pairs.head()"
   ]
  },
  {
   "cell_type": "code",
   "execution_count": null,
   "metadata": {},
   "outputs": [],
   "source": [
    "function_types = clone_pairs[\"functionality_id\"].unique()\n",
    "function_types.sort()\n",
    "print(function_types)"
   ]
  },
  {
   "cell_type": "code",
   "execution_count": null,
   "metadata": {},
   "outputs": [],
   "source": [
    "tvals = []\n",
    "for ft in function_types:\n",
    "    for t in range(1,5):\n",
    "        sf = clone_pairs[(clone_pairs[\"type\"] == t) & (clone_pairs[\"functionality_id\"] == ft)]\n",
    "        v = len(sf.index)\n",
    "        tvals.append((ft, t, v))\n",
    "clones_by_tf = pd.DataFrame(tvals)\n",
    "clones_by_tf.columns = [\"functionality\", \"type\", \"count\"]\n",
    "clones_by_tf.head()"
   ]
  },
  {
   "cell_type": "code",
   "execution_count": null,
   "metadata": {},
   "outputs": [],
   "source": [
    "clones_by_tf.plot.barh(y=\"count\",  x=\"functionality\", label=\"type\", logx=True, stacked=True, figsize=(50,50))\n",
    "\n",
    "cbtf_pivot = clones_by_tf.pivot(index=\"functionality\", columns=\"type\", values=\"count\")\n",
    "print(cbtf_pivot)\n",
    "ax = cbtf_pivot.plot.barh(stacked=True, logx=False, grid=True, width=0.95, figsize=(6,15))\n",
    "ax.set_xlim(0, 1500000)\n",
    "plt.show()\n",
    "\n",
    "ax = cbtf_pivot.plot.barh(stacked=True, logx=False, grid=True, width=0.95, figsize=(6,15))\n",
    "ax.set_xlim(0, 50000)\n",
    "plt.show()"
   ]
  },
  {
   "cell_type": "code",
   "execution_count": null,
   "metadata": {},
   "outputs": [],
   "source": [
    "def get_unique_code_ids(ds):\n",
    "    code_ids_by_ct = [None,set(),set(),set(),set()]\n",
    "    \n",
    "    for _, r in ds.iterrows():\n",
    "        id1 = r[\"function_id_one\"]\n",
    "        id2 = r[\"function_id_two\"]\n",
    "        ctype = int(r[\"type\"])\n",
    "        code_ids_by_ct[ctype].add(id1)\n",
    "        code_ids_by_ct[ctype].add(id2)\n",
    "    for i in range(1,5):\n",
    "        print(\"T-%s: %s different snippets\" % (i, len(code_ids_by_ct[i])))\n",
    "    print(\"T4 - T1 snippets: %s different snippets\" % len(code_ids_by_ct[4]-code_ids_by_ct[1]))\n",
    "    print(\"T4 - T1+2 snippets: %s different snippets\" % len((code_ids_by_ct[4]-code_ids_by_ct[2])-code_ids_by_ct[1]))\n",
    "    print(\"T4 - T1+2+3 snippets: %s different snippets\" % len(((code_ids_by_ct[4]-code_ids_by_ct[3])-code_ids_by_ct[2])-code_ids_by_ct[1]))\n",
    "    return code_ids_by_ct\n",
    "cids_by_ct = get_unique_code_ids(clone_pairs)\n"
   ]
  },
  {
   "cell_type": "code",
   "execution_count": null,
   "metadata": {},
   "outputs": [],
   "source": [
    "for i in range(1, 5):\n",
    "    print(\"Number of T-%s clone pairs: %s\" % (i, len(clone_pairs[clone_pairs[\"type\"] == i].index)))"
   ]
  },
  {
   "cell_type": "code",
   "execution_count": null,
   "metadata": {},
   "outputs": [],
   "source": []
  },
  {
   "cell_type": "code",
   "execution_count": null,
   "metadata": {},
   "outputs": [],
   "source": [
    "# Fetch all non-clone pairs\n",
    "cur = conn.cursor()\n",
    "query = 'SELECT FUNCTION_ID_ONE, FUNCTION_ID_TWO, FUNCTIONALITY_ID, SYNTACTIC_TYPE, SIMILARITY_LINE FROM FALSE_POSITIVES'\n",
    "# WHERE SYNTACTIC_TYPE=1;'   \n",
    "non_clones = pdsql.read_sql_query(query, conn)\n",
    "non_clones.head()"
   ]
  },
  {
   "cell_type": "code",
   "execution_count": null,
   "metadata": {},
   "outputs": [],
   "source": [
    "function_types = clone_pairs[\"functionality_id\"].unique()\n",
    "function_types.sort()\n",
    "print(function_types)"
   ]
  },
  {
   "cell_type": "code",
   "execution_count": null,
   "metadata": {},
   "outputs": [],
   "source": [
    "counts_by_ft = []\n",
    "for ft in function_types:\n",
    "    cp_ft = clone_pairs[clone_pairs[\"functionality_id\"] == ft]\n",
    "    nc_ft = non_clones[non_clones[\"functionality_id\"] == ft]\n",
    "    cl_ids = set(cp_ft[\"function_id_one\"].to_list() + cp_ft[\"function_id_two\"].to_list())\n",
    "    noncl_ids = set(nc_ft[\"function_id_one\"].to_list() + nc_ft[\"function_id_two\"].to_list())\n",
    "    shared = len(cl_ids.intersection(noncl_ids))\n",
    "    nccount = len(noncl_ids) - shared\n",
    "    ccount = len(cl_ids) - shared\n",
    "    \n",
    "    counts_by_ft.append((ft, \"non-clones snippets\", nccount))\n",
    "    counts_by_ft.append((ft, \"shared snippets\", shared))\n",
    "    counts_by_ft.append((ft, \"clones snippets\", ccount))"
   ]
  },
  {
   "cell_type": "code",
   "execution_count": null,
   "metadata": {},
   "outputs": [],
   "source": [
    "import matplotlib.pyplot as plt\n",
    "#g = exp1_results.groupby([\"visualization\", \"algorithm\"]).mean()\n",
    "#g.plot.barh(figsize=(15,8))\n",
    "#plt.title(\"\", fontweight=\"bold\")\n",
    "#ax = plt.gca()\n",
    "#ax.yaxis.grid(True)\n",
    "#ax.set_yticks([x*0.1 for x in range(10)])\n",
    "#plt.show()\n",
    "\n",
    "ft_snip_counts = pd.DataFrame(counts_by_ft)\n",
    "ft_snip_counts.columns = [\"functionality\", \"type\", \"count\"]\n",
    "ft_snip_counts.head(5)\n",
    "\n",
    "\n"
   ]
  },
  {
   "cell_type": "code",
   "execution_count": null,
   "metadata": {},
   "outputs": [],
   "source": [
    "import matplotlib.pyplot as plt\n",
    "tfsc_pivot = ft_snip_counts.pivot(index=\"functionality\", columns=\"type\", values=\"count\")\n",
    "#tfsc_pivot = tfsc_pivot.reindex_axis(['clones snippets', 'shared snippets', 'non-clones snippets'], axis=1) \n",
    "tfsc_pivot = tfsc_pivot[['clones snippets', 'shared snippets', 'non-clones snippets']]\n",
    "print(tfsc_pivot)\n",
    "ax = tfsc_pivot.plot.barh(stacked=True, logx=False, grid=True, width=0.95, figsize=(6,15))\n",
    "#ax.set_xlim(0, 1500000)\n",
    "plt.show()\n",
    "\n",
    "ax = tfsc_pivot.plot.barh(stacked=True, logx=False, grid=True, width=0.95, figsize=(6,15))\n",
    "ax.set_xlim(0, 1750)\n",
    "plt.show()"
   ]
  },
  {
   "cell_type": "code",
   "execution_count": null,
   "metadata": {},
   "outputs": [],
   "source": [
    "tfsc_pivot.columns"
   ]
  },
  {
   "cell_type": "code",
   "execution_count": null,
   "metadata": {},
   "outputs": [],
   "source": []
  },
  {
   "cell_type": "code",
   "execution_count": null,
   "metadata": {},
   "outputs": [],
   "source": []
  },
  {
   "cell_type": "code",
   "execution_count": null,
   "metadata": {},
   "outputs": [],
   "source": []
  },
  {
   "cell_type": "code",
   "execution_count": null,
   "metadata": {},
   "outputs": [],
   "source": []
  },
  {
   "cell_type": "code",
   "execution_count": null,
   "metadata": {},
   "outputs": [],
   "source": []
  },
  {
   "cell_type": "code",
   "execution_count": null,
   "metadata": {},
   "outputs": [],
   "source": []
  },
  {
   "cell_type": "code",
   "execution_count": null,
   "metadata": {},
   "outputs": [],
   "source": []
  },
  {
   "cell_type": "code",
   "execution_count": null,
   "metadata": {},
   "outputs": [],
   "source": []
  },
  {
   "cell_type": "code",
   "execution_count": null,
   "metadata": {},
   "outputs": [],
   "source": []
  }
 ],
 "metadata": {
  "kernelspec": {
   "display_name": "Python 3",
   "language": "python",
   "name": "python3"
  },
  "language_info": {
   "codemirror_mode": {
    "name": "ipython",
    "version": 3
   },
   "file_extension": ".py",
   "mimetype": "text/x-python",
   "name": "python",
   "nbconvert_exporter": "python",
   "pygments_lexer": "ipython3",
   "version": "3.6.8"
  }
 },
 "nbformat": 4,
 "nbformat_minor": 2
}
