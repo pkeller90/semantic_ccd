{
 "cells": [
  {
   "cell_type": "code",
   "execution_count": null,
   "metadata": {},
   "outputs": [],
   "source": [
    "import pandas as pd\n",
    "import matplotlib.pyplot as plt"
   ]
  },
  {
   "cell_type": "code",
   "execution_count": null,
   "metadata": {},
   "outputs": [],
   "source": [
    "import matplotlib as mpl\n",
    "mpl.style.use('default') #seaborn-white is also not bad\n",
    "mpl.style.available"
   ]
  },
  {
   "cell_type": "code",
   "execution_count": null,
   "metadata": {},
   "outputs": [],
   "source": [
    "def translate_names(ds):\n",
    "    ds_names = {\n",
    "        \"viscode_t4_limited\" : \"VC\",\n",
    "        \"viscode_t4_limited_art\" : \"ART\",\n",
    "        \"gen\" : \"GEN\",\n",
    "        \"astnn_t4\" : \"ASTNN\"\n",
    "    }\n",
    "    \n",
    "    if \"dataset\" in ds.columns:\n",
    "        ds[\"dataset\"].replace(ds_names, inplace=True)\n",
    "    return ds\n",
    "        \n",
    "def full_names(ls):\n",
    "    fulls = {\"VC\": \"bcb non-clones\",\n",
    "             \"ART\": \"generated non-clones\",\n",
    "             \"GEN\": \"generalization\",\n",
    "             \n",
    "             \"bc\": \"neural network\",\n",
    "             \"knn\": \"kNN\",\n",
    "             \"svm\": \"SVM\",\n",
    "             \"astnn\": \"ASTNN\",\n",
    "             \n",
    "             \"st\": \"simple text\",\n",
    "             \"sh\": \"color highlighting\",\n",
    "             \"kp\": \"geometric keywords\",\n",
    "             \"as\": \"condensed AST\"\n",
    "                 }\n",
    "    if isinstance(ls, str):\n",
    "        return fulls[ls] if ls in fulls else ls\n",
    "    else:\n",
    "        return [fulls[x] if x in fulls else x for x in ls]"
   ]
  },
  {
   "cell_type": "code",
   "execution_count": null,
   "metadata": {},
   "outputs": [],
   "source": [
    "filename_pattern = \"experiment%s<timestamp>.csv\"\n",
    "exp1_results = translate_names(pd.read_csv(filename_pattern % 1))\n",
    "print(exp1_results.head())\n",
    "print(exp1_results.columns)\n",
    "exp1_results.drop(\"dataset\", axis=1, inplace=True)\n",
    "exp1_results.drop(\"run\", axis=1, inplace=True)\n",
    "print(len(exp1_results.index))\n"
   ]
  },
  {
   "cell_type": "code",
   "execution_count": null,
   "metadata": {},
   "outputs": [],
   "source": [
    "for alg in exp1_results[\"algorithm\"].unique():\n",
    "    ss = exp1_results[exp1_results[\"algorithm\"] == alg]\n",
    "    er1 = ss[ss.columns.difference([\"algorithm\"])]\n",
    "    g = er1.groupby([\"visualization\" ]).mean()\n",
    "    print(g)\n",
    "    g.plot.bar(figsize=(4.5,5))\n",
    "    plt.title(\"RQ1: Visualization influence\\non algorithm: %s\" % full_names(alg), fontweight=\"bold\")\n",
    "    ax = plt.gca()\n",
    "    plt.legend(loc='lower center')\n",
    "    ax.yaxis.grid(True)\n",
    "    ax.set_xticklabels(full_names(g.index), rotation=45, ha=\"right\")\n",
    "    ax.set_yticks([x*0.1 for x in range(11)])\n",
    "    plt.show()"
   ]
  },
  {
   "cell_type": "code",
   "execution_count": null,
   "metadata": {},
   "outputs": [],
   "source": []
  },
  {
   "cell_type": "code",
   "execution_count": null,
   "metadata": {},
   "outputs": [],
   "source": []
  },
  {
   "cell_type": "code",
   "execution_count": null,
   "metadata": {},
   "outputs": [],
   "source": []
  },
  {
   "cell_type": "code",
   "execution_count": null,
   "metadata": {},
   "outputs": [],
   "source": [
    "exp2_results = translate_names(pd.read_csv(filename_pattern % 2))\n",
    "print(exp2_results.head())\n",
    "print(exp2_results.columns)\n",
    "exp2_results.drop(\"visualization\", axis=1, inplace=True)\n",
    "exp2_results.drop(\"run\", axis=1, inplace=True)\n",
    "print(len(exp2_results.index))\n"
   ]
  },
  {
   "cell_type": "code",
   "execution_count": null,
   "metadata": {
    "scrolled": false
   },
   "outputs": [],
   "source": [
    "for dataset in exp2_results[\"dataset\"].unique():\n",
    "    ss = exp2_results[exp2_results[\"dataset\"] == dataset]\n",
    "    er1 = ss[ss.columns.difference([\"dataset\"])]\n",
    "    g = er1.groupby([\"algorithm\" ]).mean()\n",
    "    print(g)\n",
    "    g.plot.bar(figsize=(4.5,5))\n",
    "    plt.title(\"RQ2: Algorithm importance\\non '%s' dataset\" % full_names(dataset), fontweight=\"bold\")\n",
    "    ax = plt.gca()\n",
    "    ax.yaxis.grid(True)\n",
    "    plt.legend(loc='lower center')\n",
    "    ax.set_xticklabels(full_names(g.index), rotation=45, ha=\"right\")\n",
    "    ax.set_yticks([x*0.1 for x in range(11)])\n",
    "    plt.show()"
   ]
  },
  {
   "cell_type": "code",
   "execution_count": null,
   "metadata": {},
   "outputs": [],
   "source": []
  },
  {
   "cell_type": "code",
   "execution_count": null,
   "metadata": {},
   "outputs": [],
   "source": []
  },
  {
   "cell_type": "code",
   "execution_count": null,
   "metadata": {},
   "outputs": [],
   "source": []
  },
  {
   "cell_type": "code",
   "execution_count": null,
   "metadata": {},
   "outputs": [],
   "source": [
    "exp3_results = translate_names(pd.read_csv(filename_pattern % 3))\n",
    "print(exp3_results.head())\n",
    "print(exp3_results.columns)\n",
    "exp3_results.drop(\"visualization\", axis=1, inplace=True)\n",
    "exp3_results.drop(\"run\", axis=1, inplace=True)\n",
    "print(len(exp3_results.index))\n",
    "\n",
    "exp3_results = pd.concat([exp3_results, exp2_results[exp2_results[\"algorithm\"]==\"bc\"]])\n"
   ]
  },
  {
   "cell_type": "code",
   "execution_count": null,
   "metadata": {
    "scrolled": false
   },
   "outputs": [],
   "source": [
    "for dataset in exp3_results[\"dataset\"].unique():\n",
    "    ss = exp3_results[exp3_results[\"dataset\"] == dataset]\n",
    "    er1 = ss[ss.columns.difference([\"dataset\"])]\n",
    "    g = er1.groupby([\"algorithm\" ]).mean()\n",
    "    print(g)\n",
    "    g.plot.bar(figsize=(2.8,5))\n",
    "    plt.title(\"RQ3: Comparision to SOTA\\n on '%s' dataset\" % full_names(dataset), fontweight=\"bold\")\n",
    "    ax = plt.gca()\n",
    "    ax.yaxis.grid(True)\n",
    "    plt.legend(loc='lower center')\n",
    "    ax.set_xticklabels(full_names(g.index), rotation=45, ha=\"right\")\n",
    "    ax.set_yticks([x*0.1 for x in range(11)])\n",
    "    plt.show()"
   ]
  },
  {
   "cell_type": "code",
   "execution_count": null,
   "metadata": {},
   "outputs": [],
   "source": []
  },
  {
   "cell_type": "code",
   "execution_count": null,
   "metadata": {},
   "outputs": [],
   "source": [
    "exp4_results = translate_names(pd.read_csv(filename_pattern % 4))\n",
    "print(exp4_results.head())\n",
    "print(exp4_results.columns)\n",
    "exp4_results.drop(\"visualization\", axis=1, inplace=True)\n",
    "exp4_results.drop(\"run\", axis=1, inplace=True)\n",
    "print(len(exp4_results.index))"
   ]
  },
  {
   "cell_type": "code",
   "execution_count": null,
   "metadata": {},
   "outputs": [],
   "source": [
    "for dataset in exp4_results[\"dataset\"].unique():\n",
    "    ss = exp4_results[exp4_results[\"dataset\"] == dataset]\n",
    "    er1 = ss[ss.columns.difference([\"dataset\"])]\n",
    "    g = er1.groupby([\"algorithm\" ]).mean()\n",
    "    print(g)\n",
    "    g.plot.bar(figsize=(9,5))\n",
    "    plt.title(\"RQ4: Generalization abilities\\n on '%s' dataset\" % full_names(dataset), fontweight=\"bold\")\n",
    "    ax = plt.gca()\n",
    "    plt.legend(loc='lower center')\n",
    "    ax.yaxis.grid(True)\n",
    "    ax.set_xticklabels(full_names(g.index), rotation=45, ha=\"right\")\n",
    "    ax.set_yticks([x*0.1 for x in range(11)])\n",
    "    plt.show()"
   ]
  },
  {
   "cell_type": "code",
   "execution_count": null,
   "metadata": {},
   "outputs": [],
   "source": []
  },
  {
   "cell_type": "code",
   "execution_count": null,
   "metadata": {},
   "outputs": [],
   "source": []
  },
  {
   "cell_type": "code",
   "execution_count": null,
   "metadata": {},
   "outputs": [],
   "source": [
    "exp5_results = translate_names(pd.read_csv(filename_pattern % 5))\n",
    "print(exp5_results.head())\n",
    "print(exp5_results.columns)\n",
    "exp5_results.drop(\"algorithm\", axis=1, inplace=True)\n",
    "exp5_results.drop(\"run\", axis=1, inplace=True)\n",
    "print(len(exp5_results.index))"
   ]
  },
  {
   "cell_type": "code",
   "execution_count": null,
   "metadata": {
    "scrolled": false
   },
   "outputs": [],
   "source": [
    "for dataset in exp5_results[\"dataset\"].unique():\n",
    "    ss = exp5_results[exp5_results[\"dataset\"] == dataset]\n",
    "    er1 = ss[ss.columns.difference([\"dataset\"])]\n",
    "    g = er1.groupby([\"visualization\" ]).mean()\n",
    "    print(g)\n",
    "    g.plot.bar(figsize=(4.5,5))\n",
    "    plt.title(\"RQ5: Code Classification Performance\\n on '%s' dataset\" % full_names(dataset), fontweight=\"bold\")\n",
    "    ax = plt.gca()\n",
    "    plt.legend(loc='center')\n",
    "    ax.yaxis.grid(True)\n",
    "    ax.set_xticklabels(full_names(g.index), rotation=45, ha=\"right\")\n",
    "    ax.set_yticks([x*0.1 for x in range(11)])\n",
    "    plt.show()"
   ]
  },
  {
   "cell_type": "code",
   "execution_count": null,
   "metadata": {},
   "outputs": [],
   "source": []
  },
  {
   "cell_type": "code",
   "execution_count": null,
   "metadata": {},
   "outputs": [],
   "source": []
  },
  {
   "cell_type": "code",
   "execution_count": null,
   "metadata": {},
   "outputs": [],
   "source": []
  },
  {
   "cell_type": "code",
   "execution_count": null,
   "metadata": {},
   "outputs": [],
   "source": []
  },
  {
   "cell_type": "code",
   "execution_count": null,
   "metadata": {},
   "outputs": [],
   "source": []
  },
  {
   "cell_type": "code",
   "execution_count": null,
   "metadata": {},
   "outputs": [],
   "source": []
  },
  {
   "cell_type": "code",
   "execution_count": null,
   "metadata": {},
   "outputs": [],
   "source": []
  },
  {
   "cell_type": "code",
   "execution_count": null,
   "metadata": {},
   "outputs": [],
   "source": []
  }
 ],
 "metadata": {
  "kernelspec": {
   "display_name": "Python 3",
   "language": "python",
   "name": "python3"
  },
  "language_info": {
   "codemirror_mode": {
    "name": "ipython",
    "version": 3
   },
   "file_extension": ".py",
   "mimetype": "text/x-python",
   "name": "python",
   "nbconvert_exporter": "python",
   "pygments_lexer": "ipython3",
   "version": "3.6.8"
  }
 },
 "nbformat": 4,
 "nbformat_minor": 2
}
